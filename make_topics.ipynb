{
 "cells": [
  {
   "cell_type": "code",
   "execution_count": 2,
   "metadata": {},
   "outputs": [],
   "source": [
    "from vu_models import Concept, Question, Subtopic, Topic, Topics"
   ]
  },
  {
   "cell_type": "code",
   "execution_count": 3,
   "metadata": {},
   "outputs": [
    {
     "name": "stdout",
     "output_type": "stream",
     "text": [
      "topics=OrderedDict([('Algebra', Topic(topic='Algebra', prerequisite_ids=[], postrequisite_ids=['Geometry'], subtopics=OrderedDict([('Algebra_Subtopic 1', Subtopic(topic='Algebra', prerequisite_ids=[], postrequisite_ids=['Geometry_Subtopic 1'], subtopic='Subtopic 1', concepts=OrderedDict([('Algebra_Subtopic 1_Concept 1', Concept(topic='Algebra', prerequisite_ids=[], postrequisite_ids=['Geometry_Subtopic 1_Concept 2'], subtopic='Subtopic 1', concept='Concept 1', questions=OrderedDict([('Algebra_Subtopic 1_Concept 1_1', Question(problem='Problem for Algebra, Subtopic 1, Concept 1, Question 1', solution='Solution for Algebra, Subtopic 1, Concept 1, Question 1', topic='Algebra', prerequisite_ids=[], postrequisite_ids=['Geometry_Subtopic 1_Concept 2_2'], subtopic='Subtopic 1', concept='Concept 1', question_number=1, difficulty=<QuestionDifficulty.EASY: 'easy'>, subquestions=[], code='')), ('Algebra_Subtopic 1_Concept 1_2', Question(problem='Problem for Algebra, Subtopic 1, Concept 1, Question 2', solution='Solution for Algebra, Subtopic 1, Concept 1, Question 2', topic='Algebra', prerequisite_ids=[], postrequisite_ids=[], subtopic='Subtopic 1', concept='Concept 1', question_number=2, difficulty=<QuestionDifficulty.EASY: 'easy'>, subquestions=[], code='')), ('Algebra_Subtopic 1_Concept 1_3', Question(problem='Problem for Algebra, Subtopic 1, Concept 1, Question 3', solution='Solution for Algebra, Subtopic 1, Concept 1, Question 3', topic='Algebra', prerequisite_ids=[], postrequisite_ids=[], subtopic='Subtopic 1', concept='Concept 1', question_number=3, difficulty=<QuestionDifficulty.EASY: 'easy'>, subquestions=[], code=''))]))), ('Algebra_Subtopic 1_Concept 2', Concept(topic='Algebra', prerequisite_ids=[], postrequisite_ids=[], subtopic='Subtopic 1', concept='Concept 2', questions=OrderedDict([('Algebra_Subtopic 1_Concept 2_1', Question(problem='Problem for Algebra, Subtopic 1, Concept 2, Question 1', solution='Solution for Algebra, Subtopic 1, Concept 2, Question 1', topic='Algebra', prerequisite_ids=[], postrequisite_ids=[], subtopic='Subtopic 1', concept='Concept 2', question_number=1, difficulty=<QuestionDifficulty.EASY: 'easy'>, subquestions=[], code='')), ('Algebra_Subtopic 1_Concept 2_2', Question(problem='Problem for Algebra, Subtopic 1, Concept 2, Question 2', solution='Solution for Algebra, Subtopic 1, Concept 2, Question 2', topic='Algebra', prerequisite_ids=[], postrequisite_ids=[], subtopic='Subtopic 1', concept='Concept 2', question_number=2, difficulty=<QuestionDifficulty.EASY: 'easy'>, subquestions=[], code='')), ('Algebra_Subtopic 1_Concept 2_3', Question(problem='Problem for Algebra, Subtopic 1, Concept 2, Question 3', solution='Solution for Algebra, Subtopic 1, Concept 2, Question 3', topic='Algebra', prerequisite_ids=[], postrequisite_ids=[], subtopic='Subtopic 1', concept='Concept 2', question_number=3, difficulty=<QuestionDifficulty.EASY: 'easy'>, subquestions=[], code=''))])))]))), ('Algebra_Subtopic 2', Subtopic(topic='Algebra', prerequisite_ids=[], postrequisite_ids=['Geometry_Subtopic 2'], subtopic='Subtopic 2', concepts=OrderedDict([('Algebra_Subtopic 2_Concept 1', Concept(topic='Algebra', prerequisite_ids=[], postrequisite_ids=[], subtopic='Subtopic 2', concept='Concept 1', questions=OrderedDict([('Algebra_Subtopic 2_Concept 1_1', Question(problem='Problem for Algebra, Subtopic 2, Concept 1, Question 1', solution='Solution for Algebra, Subtopic 2, Concept 1, Question 1', topic='Algebra', prerequisite_ids=[], postrequisite_ids=[], subtopic='Subtopic 2', concept='Concept 1', question_number=1, difficulty=<QuestionDifficulty.EASY: 'easy'>, subquestions=[], code='')), ('Algebra_Subtopic 2_Concept 1_2', Question(problem='Problem for Algebra, Subtopic 2, Concept 1, Question 2', solution='Solution for Algebra, Subtopic 2, Concept 1, Question 2', topic='Algebra', prerequisite_ids=[], postrequisite_ids=[], subtopic='Subtopic 2', concept='Concept 1', question_number=2, difficulty=<QuestionDifficulty.EASY: 'easy'>, subquestions=[], code='')), ('Algebra_Subtopic 2_Concept 1_3', Question(problem='Problem for Algebra, Subtopic 2, Concept 1, Question 3', solution='Solution for Algebra, Subtopic 2, Concept 1, Question 3', topic='Algebra', prerequisite_ids=[], postrequisite_ids=[], subtopic='Subtopic 2', concept='Concept 1', question_number=3, difficulty=<QuestionDifficulty.EASY: 'easy'>, subquestions=[], code=''))]))), ('Algebra_Subtopic 2_Concept 2', Concept(topic='Algebra', prerequisite_ids=[], postrequisite_ids=['Geometry_Subtopic 2_Concept 1'], subtopic='Subtopic 2', concept='Concept 2', questions=OrderedDict([('Algebra_Subtopic 2_Concept 2_1', Question(problem='Problem for Algebra, Subtopic 2, Concept 2, Question 1', solution='Solution for Algebra, Subtopic 2, Concept 2, Question 1', topic='Algebra', prerequisite_ids=[], postrequisite_ids=[], subtopic='Subtopic 2', concept='Concept 2', question_number=1, difficulty=<QuestionDifficulty.EASY: 'easy'>, subquestions=[], code='')), ('Algebra_Subtopic 2_Concept 2_2', Question(problem='Problem for Algebra, Subtopic 2, Concept 2, Question 2', solution='Solution for Algebra, Subtopic 2, Concept 2, Question 2', topic='Algebra', prerequisite_ids=[], postrequisite_ids=['Geometry_Subtopic 2_Concept 1_1'], subtopic='Subtopic 2', concept='Concept 2', question_number=2, difficulty=<QuestionDifficulty.EASY: 'easy'>, subquestions=[], code='')), ('Algebra_Subtopic 2_Concept 2_3', Question(problem='Problem for Algebra, Subtopic 2, Concept 2, Question 3', solution='Solution for Algebra, Subtopic 2, Concept 2, Question 3', topic='Algebra', prerequisite_ids=[], postrequisite_ids=[], subtopic='Subtopic 2', concept='Concept 2', question_number=3, difficulty=<QuestionDifficulty.EASY: 'easy'>, subquestions=[], code=''))])))])))]))), ('Geometry', Topic(topic='Geometry', prerequisite_ids=['Algebra'], postrequisite_ids=[], subtopics=OrderedDict([('Geometry_Subtopic 1', Subtopic(topic='Geometry', prerequisite_ids=['Algebra_Subtopic 1'], postrequisite_ids=['Geometry_Subtopic 2'], subtopic='Subtopic 1', concepts=OrderedDict([('Geometry_Subtopic 1_Concept 1', Concept(topic='Geometry', prerequisite_ids=[], postrequisite_ids=[], subtopic='Subtopic 1', concept='Concept 1', questions=OrderedDict([('Geometry_Subtopic 1_Concept 1_1', Question(problem='Problem for Geometry, Subtopic 1, Concept 1, Question 1', solution='Solution for Geometry, Subtopic 1, Concept 1, Question 1', topic='Geometry', prerequisite_ids=[], postrequisite_ids=[], subtopic='Subtopic 1', concept='Concept 1', question_number=1, difficulty=<QuestionDifficulty.EASY: 'easy'>, subquestions=[], code='')), ('Geometry_Subtopic 1_Concept 1_2', Question(problem='Problem for Geometry, Subtopic 1, Concept 1, Question 2', solution='Solution for Geometry, Subtopic 1, Concept 1, Question 2', topic='Geometry', prerequisite_ids=[], postrequisite_ids=[], subtopic='Subtopic 1', concept='Concept 1', question_number=2, difficulty=<QuestionDifficulty.EASY: 'easy'>, subquestions=[], code='')), ('Geometry_Subtopic 1_Concept 1_3', Question(problem='Problem for Geometry, Subtopic 1, Concept 1, Question 3', solution='Solution for Geometry, Subtopic 1, Concept 1, Question 3', topic='Geometry', prerequisite_ids=[], postrequisite_ids=[], subtopic='Subtopic 1', concept='Concept 1', question_number=3, difficulty=<QuestionDifficulty.EASY: 'easy'>, subquestions=[], code=''))]))), ('Geometry_Subtopic 1_Concept 2', Concept(topic='Geometry', prerequisite_ids=['Algebra_Subtopic 1_Concept 1'], postrequisite_ids=['Geometry_Subtopic 2_Concept 2'], subtopic='Subtopic 1', concept='Concept 2', questions=OrderedDict([('Geometry_Subtopic 1_Concept 2_1', Question(problem='Problem for Geometry, Subtopic 1, Concept 2, Question 1', solution='Solution for Geometry, Subtopic 1, Concept 2, Question 1', topic='Geometry', prerequisite_ids=[], postrequisite_ids=[], subtopic='Subtopic 1', concept='Concept 2', question_number=1, difficulty=<QuestionDifficulty.EASY: 'easy'>, subquestions=[], code='')), ('Geometry_Subtopic 1_Concept 2_2', Question(problem='Problem for Geometry, Subtopic 1, Concept 2, Question 2', solution='Solution for Geometry, Subtopic 1, Concept 2, Question 2', topic='Geometry', prerequisite_ids=['Algebra_Subtopic 1_Concept 1_1'], postrequisite_ids=['Geometry_Subtopic 2_Concept 2_3'], subtopic='Subtopic 1', concept='Concept 2', question_number=2, difficulty=<QuestionDifficulty.EASY: 'easy'>, subquestions=[], code='')), ('Geometry_Subtopic 1_Concept 2_3', Question(problem='Problem for Geometry, Subtopic 1, Concept 2, Question 3', solution='Solution for Geometry, Subtopic 1, Concept 2, Question 3', topic='Geometry', prerequisite_ids=[], postrequisite_ids=[], subtopic='Subtopic 1', concept='Concept 2', question_number=3, difficulty=<QuestionDifficulty.EASY: 'easy'>, subquestions=[], code=''))])))]))), ('Geometry_Subtopic 2', Subtopic(topic='Geometry', prerequisite_ids=['Algebra_Subtopic 2', 'Geometry_Subtopic 1'], postrequisite_ids=[], subtopic='Subtopic 2', concepts=OrderedDict([('Geometry_Subtopic 2_Concept 1', Concept(topic='Geometry', prerequisite_ids=['Algebra_Subtopic 2_Concept 2'], postrequisite_ids=[], subtopic='Subtopic 2', concept='Concept 1', questions=OrderedDict([('Geometry_Subtopic 2_Concept 1_1', Question(problem='Problem for Geometry, Subtopic 2, Concept 1, Question 1', solution='Solution for Geometry, Subtopic 2, Concept 1, Question 1', topic='Geometry', prerequisite_ids=['Algebra_Subtopic 2_Concept 2_2'], postrequisite_ids=[], subtopic='Subtopic 2', concept='Concept 1', question_number=1, difficulty=<QuestionDifficulty.EASY: 'easy'>, subquestions=[], code='')), ('Geometry_Subtopic 2_Concept 1_2', Question(problem='Problem for Geometry, Subtopic 2, Concept 1, Question 2', solution='Solution for Geometry, Subtopic 2, Concept 1, Question 2', topic='Geometry', prerequisite_ids=[], postrequisite_ids=[], subtopic='Subtopic 2', concept='Concept 1', question_number=2, difficulty=<QuestionDifficulty.EASY: 'easy'>, subquestions=[], code='')), ('Geometry_Subtopic 2_Concept 1_3', Question(problem='Problem for Geometry, Subtopic 2, Concept 1, Question 3', solution='Solution for Geometry, Subtopic 2, Concept 1, Question 3', topic='Geometry', prerequisite_ids=[], postrequisite_ids=[], subtopic='Subtopic 2', concept='Concept 1', question_number=3, difficulty=<QuestionDifficulty.EASY: 'easy'>, subquestions=[], code=''))]))), ('Geometry_Subtopic 2_Concept 2', Concept(topic='Geometry', prerequisite_ids=['Geometry_Subtopic 1_Concept 2'], postrequisite_ids=[], subtopic='Subtopic 2', concept='Concept 2', questions=OrderedDict([('Geometry_Subtopic 2_Concept 2_1', Question(problem='Problem for Geometry, Subtopic 2, Concept 2, Question 1', solution='Solution for Geometry, Subtopic 2, Concept 2, Question 1', topic='Geometry', prerequisite_ids=[], postrequisite_ids=[], subtopic='Subtopic 2', concept='Concept 2', question_number=1, difficulty=<QuestionDifficulty.EASY: 'easy'>, subquestions=[], code='')), ('Geometry_Subtopic 2_Concept 2_2', Question(problem='Problem for Geometry, Subtopic 2, Concept 2, Question 2', solution='Solution for Geometry, Subtopic 2, Concept 2, Question 2', topic='Geometry', prerequisite_ids=[], postrequisite_ids=[], subtopic='Subtopic 2', concept='Concept 2', question_number=2, difficulty=<QuestionDifficulty.EASY: 'easy'>, subquestions=[], code='')), ('Geometry_Subtopic 2_Concept 2_3', Question(problem='Problem for Geometry, Subtopic 2, Concept 2, Question 3', solution='Solution for Geometry, Subtopic 2, Concept 2, Question 3', topic='Geometry', prerequisite_ids=['Geometry_Subtopic 1_Concept 2_2'], postrequisite_ids=[], subtopic='Subtopic 2', concept='Concept 2', question_number=3, difficulty=<QuestionDifficulty.EASY: 'easy'>, subquestions=[], code=''))])))])))])))])\n"
     ]
    }
   ],
   "source": [
    "maths_course = Topics()\n",
    "\n",
    "# Add topics\n",
    "topics = [\"Algebra\", \"Geometry\"]\n",
    "for topic in topics:\n",
    "    maths_course.topics[topic] = Topic(topic=topic)\n",
    "\n",
    "# Add subtopics, concepts, and questions\n",
    "for topic in maths_course.topics.values():\n",
    "    for i in range(1, 3):  # 2 subtopics\n",
    "        subtopic = Subtopic(topic=topic.topic, subtopic=f\"Subtopic {i}\")\n",
    "        for j in range(1, 3):  # 2 concepts\n",
    "            concept = Concept(\n",
    "                topic=topic.topic, subtopic=subtopic.subtopic, concept=f\"Concept {j}\"\n",
    "            )\n",
    "            for k in range(1, 4):  # 3 questions\n",
    "                question = Question(\n",
    "                    topic=topic.topic,\n",
    "                    subtopic=subtopic.subtopic,\n",
    "                    concept=concept.concept,\n",
    "                    question_number=k,\n",
    "                    problem=f\"Problem for {topic.topic}, {subtopic.subtopic}, {concept.concept}, Question {k}\",\n",
    "                    solution=f\"Solution for {topic.topic}, {subtopic.subtopic}, {concept.concept}, Question {k}\",\n",
    "                )\n",
    "                concept.questions[\n",
    "                    f\"{topic.topic}_{subtopic.subtopic}_{concept.concept}_{k}\"\n",
    "                ] = question\n",
    "            subtopic.concepts[\n",
    "                f\"{topic.topic}_{subtopic.subtopic}_{concept.concept}\"\n",
    "            ] = concept\n",
    "        topic.subtopics[f\"{topic.topic}_{subtopic.subtopic}\"] = subtopic\n",
    "\n",
    "# Add prerequisites\n",
    "maths_course.add_prerequisites(\n",
    "    \"Geometry_Subtopic 1_Concept 2_2\", \"Algebra_Subtopic 1_Concept 1_1\"\n",
    ")\n",
    "maths_course.add_prerequisites(\n",
    "    \"Geometry_Subtopic 2_Concept 1_1\", \"Algebra_Subtopic 2_Concept 2_2\"\n",
    ")\n",
    "maths_course.add_prerequisites(\n",
    "    \"Geometry_Subtopic 2_Concept 2_3\", \"Geometry_Subtopic 1_Concept 2_2\"\n",
    ")\n",
    "\n",
    "print(maths_course)"
   ]
  },
  {
   "cell_type": "code",
   "execution_count": 7,
   "metadata": {},
   "outputs": [],
   "source": [
    "import json\n",
    "with open(\"math_102.json\", \"w\") as f:\n",
    "    json.dump(maths_course.model_dump(), f, indent=2)"
   ]
  },
  {
   "cell_type": "code",
   "execution_count": null,
   "metadata": {},
   "outputs": [],
   "source": [
    "()"
   ]
  }
 ],
 "metadata": {
  "kernelspec": {
   "display_name": "Python 3",
   "language": "python",
   "name": "python3"
  },
  "language_info": {
   "codemirror_mode": {
    "name": "ipython",
    "version": 3
   },
   "file_extension": ".py",
   "mimetype": "text/x-python",
   "name": "python",
   "nbconvert_exporter": "python",
   "pygments_lexer": "ipython3",
   "version": "3.11.9"
  }
 },
 "nbformat": 4,
 "nbformat_minor": 2
}
