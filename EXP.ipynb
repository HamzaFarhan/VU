{
 "cells": [
  {
   "cell_type": "code",
   "execution_count": 17,
   "metadata": {},
   "outputs": [],
   "source": [
    "import json\n",
    "from vu_models import Topics"
   ]
  },
  {
   "cell_type": "code",
   "execution_count": 18,
   "metadata": {},
   "outputs": [],
   "source": [
    "topics = Topics(**json.load(open(\"math_topics.json\")))"
   ]
  },
  {
   "cell_type": "code",
   "execution_count": 19,
   "metadata": {},
   "outputs": [
    {
     "data": {
      "text/plain": [
       "['Understanding Sets',\n",
       " 'Complex Numbers Operations',\n",
       " 'Functions And Mappings',\n",
       " 'Quadratic Functions',\n",
       " 'Matrix Operations And Applications',\n",
       " 'Sequences And Series',\n",
       " 'Permutations And Combinations',\n",
       " 'Binomial Theorem Applications',\n",
       " 'Coordinate Geometry Basics',\n",
       " 'Circle And Equations',\n",
       " 'Trigonometric Functions',\n",
       " 'Introduction To Statistics',\n",
       " 'Data Representation & Analysis']"
      ]
     },
     "execution_count": 19,
     "metadata": {},
     "output_type": "execute_result"
    }
   ],
   "source": [
    "list(topics.topics.keys())"
   ]
  },
  {
   "cell_type": "code",
   "execution_count": 20,
   "metadata": {},
   "outputs": [],
   "source": [
    "for topic_id, topic in topics.topics.items():\n",
    "    if topic_id.count(\"_\")>0:\n",
    "        print(f\"Topic {topic_id} has {len(topic.subtopics)} subtopics\")"
   ]
  },
  {
   "cell_type": "code",
   "execution_count": null,
   "metadata": {},
   "outputs": [],
   "source": []
  }
 ],
 "metadata": {
  "kernelspec": {
   "display_name": ".venv",
   "language": "python",
   "name": "python3"
  },
  "language_info": {
   "codemirror_mode": {
    "name": "ipython",
    "version": 3
   },
   "file_extension": ".py",
   "mimetype": "text/x-python",
   "name": "python",
   "nbconvert_exporter": "python",
   "pygments_lexer": "ipython3",
   "version": "3.11.9"
  }
 },
 "nbformat": 4,
 "nbformat_minor": 2
}
