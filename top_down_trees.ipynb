{
 "cells": [
  {
   "cell_type": "code",
   "execution_count": 1,
   "id": "ea864337",
   "metadata": {},
   "outputs": [],
   "source": [
    "import json\n",
    "import random\n",
    "\n",
    "import matplotlib.pyplot as plt\n",
    "import networkx as nx\n",
    "\n",
    "from vu_models import Topics, Topic"
   ]
  },
  {
   "cell_type": "code",
   "execution_count": 2,
   "id": "2795cf7e",
   "metadata": {},
   "outputs": [],
   "source": [
    "topics_file = \"math_102_JUNE_21_topics.json\"\n",
    "topics = Topics(**json.load(open(topics_file)))"
   ]
  },
  {
   "cell_type": "code",
   "execution_count": 8,
   "id": "4cd227c5",
   "metadata": {},
   "outputs": [],
   "source": [
    "def create_tree(topic: Topic):\n",
    "    tree = nx.DiGraph()\n",
    "    tree.add_node(topic.id)\n",
    "    for subtopic in topic.subtopics.values():\n",
    "        tree.add_edge(topic.id, subtopic.id)\n",
    "        for concept in subtopic.concepts.values():\n",
    "            tree.add_edge(subtopic.id, concept.id)\n",
    "            for question in concept.questions.values():\n",
    "                tree.add_edge(concept.id, question.id)\n",
    "    return tree"
   ]
  },
  {
   "cell_type": "code",
   "execution_count": 9,
   "id": "cb7a6828",
   "metadata": {},
   "outputs": [],
   "source": [
    "trees = [create_tree(topic) for topic in topics.topics.values()]\n",
    "tree = nx.compose_all(trees)\n",
    "all_nodes = list(tree.nodes)"
   ]
  },
  {
   "cell_type": "code",
   "execution_count": null,
   "id": "618f392b",
   "metadata": {},
   "outputs": [],
   "source": []
  },
  {
   "cell_type": "code",
   "execution_count": 15,
   "id": "41b51bf7",
   "metadata": {},
   "outputs": [],
   "source": [
    "def create_tree_with_node_positions(\n",
    "    topics: Topics, horizontal_delta: float = 0.75, vertical_delta: int = 3\n",
    "):\n",
    "    sep = \"_\"\n",
    "    pos = {}\n",
    "    trees = [create_tree(topic) for topic in topics.topics.values()]\n",
    "    tree = nx.compose_all(trees)\n",
    "    all_nodes = list(tree.nodes)\n",
    "    leaf_nodes = [x for x in all_nodes if (x.count(sep) == 3)]\n",
    "\n",
    "    num_rows, num_cols = 15, int(horizontal_delta * (len(leaf_nodes) + 1))\n",
    "\n",
    "    #\n",
    "    #  assign pos to questions\n",
    "    #\n",
    "    i = 1\n",
    "    leaf_vertical_pos = 2\n",
    "    for lf in leaf_nodes:\n",
    "        pos[lf] = (i, leaf_vertical_pos)\n",
    "        i += horizontal_delta\n",
    "    #\n",
    "    #  assign pos to loc\n",
    "    #\n",
    "    loc_vertical_pos = leaf_vertical_pos + vertical_delta\n",
    "    loc_nodes = [x for x in all_nodes if (x.count(sep) == 2)]\n",
    "    loc_start_pos = 1\n",
    "\n",
    "    for loc_node in loc_nodes:\n",
    "        num_loc_leaf_nodes = len(\n",
    "            [x for x in all_nodes if (x.startswith(loc_node) and x.count(sep) == 3)]\n",
    "        )\n",
    "        loc_node_h_pos = loc_start_pos + int(\n",
    "            0.5 * num_loc_leaf_nodes * horizontal_delta\n",
    "        )\n",
    "        pos[loc_node] = (loc_node_h_pos, loc_vertical_pos)\n",
    "        loc_start_pos += num_loc_leaf_nodes * horizontal_delta\n",
    "    #\n",
    "    #  assign pos to subtopics\n",
    "    #\n",
    "    subtopics_vertical_pos = loc_vertical_pos + vertical_delta\n",
    "    subtopics_nodes = [x for x in all_nodes if (x.count(sep) == 1)]\n",
    "    subtopic_start_pos = 1\n",
    "\n",
    "    for subtopic_node in subtopics_nodes:\n",
    "        num_subtopic_leaf_nodes = len(\n",
    "            [\n",
    "                x\n",
    "                for x in all_nodes\n",
    "                if (x.startswith(subtopic_node) and x.count(sep) == 3)\n",
    "            ]\n",
    "        )\n",
    "        subtopic_node_h_pos = subtopic_start_pos + int(\n",
    "            0.5 * num_subtopic_leaf_nodes * horizontal_delta\n",
    "        )\n",
    "        pos[subtopic_node] = (subtopic_node_h_pos, subtopics_vertical_pos)\n",
    "        subtopic_start_pos += num_subtopic_leaf_nodes * horizontal_delta\n",
    "    #\n",
    "    #  assign pos to subtopics\n",
    "    #\n",
    "    topics_vertical_pos = subtopics_vertical_pos + vertical_delta\n",
    "    topics_nodes = [x for x in all_nodes if (x.count(sep) == 0)]\n",
    "    topic_start_pos = 1\n",
    "\n",
    "    for topic_node in topics_nodes:\n",
    "        topic_leaf_nodes = [\n",
    "            x for x in all_nodes if (x.startswith(topic_node) and x.count(sep) == 3)\n",
    "        ]\n",
    "        if topic_leaf_nodes:\n",
    "            first_leaf_node = topic_leaf_nodes[0]\n",
    "            last_leaf_node = topic_leaf_nodes[-1]\n",
    "            topic_node_h_pos = topic_start_pos + int(\n",
    "                0.5 * (pos[first_leaf_node][0] + pos[last_leaf_node][0])\n",
    "            )\n",
    "            pos[topic_node] = (topic_node_h_pos, topics_vertical_pos)\n",
    "        else:\n",
    "            pos[topic_node] = (topic_start_pos, topics_vertical_pos)\n",
    "\n",
    "    return tree, num_rows, num_cols, pos"
   ]
  },
  {
   "cell_type": "code",
   "execution_count": 16,
   "id": "ba7e5c16",
   "metadata": {
    "scrolled": false
   },
   "outputs": [
    {
     "data": {
      "image/png": "[encoded data removed]",
      "text/plain": [
       "<Figure size 25000x500 with 1 Axes>"
      ]
     },
     "metadata": {},
     "output_type": "display_data"
    }
   ],
   "source": [
    "tree, num_rows, num_cols, pos = create_tree_with_node_positions(topics=topics)\n",
    "\n",
    "# Create a figure and axis\n",
    "fig, ax = plt.subplots(figsize=(250, 5))  # Adjust the figsize for better visibility\n",
    "\n",
    "# Draw the grid lines\n",
    "\"\"\"\n",
    "for row in range(rows + 1):\n",
    "    ax.axhline(row, color='black', linewidth=0.5)\n",
    "\n",
    "for col in range(cols + 1):\n",
    "    ax.axvline(col, color='black', linewidth=0.5)\n",
    "\"\"\"\n",
    "# Set the limits and aspect ratio\n",
    "ax.set_xlim(0, num_cols)\n",
    "ax.set_ylim(0, num_rows)\n",
    "ax.set_aspect(\"equal\")\n",
    "\n",
    "# Turn off the axis labels\n",
    "ax.axis(\"off\")\n",
    "\n",
    "\n",
    "# Draw the tree on the grid\n",
    "\n",
    "nx.draw(\n",
    "    tree,\n",
    "    pos,\n",
    "    with_labels=False,\n",
    "    node_color=\"none\",\n",
    "    edgecolors=\"black\",\n",
    "    node_size=60,\n",
    "    ax=ax,\n",
    ")\n",
    "# nx.draw(G, pos, with_labels=False, node_color='none', edgecolors='black', node_size=500, ax=ax)\n",
    "\n",
    "# Display the plot\n",
    "plt.show()"
   ]
  },
  {
   "cell_type": "code",
   "execution_count": null,
   "id": "00c4cc67",
   "metadata": {},
   "outputs": [],
   "source": []
  }
 ],
 "metadata": {
  "kernelspec": {
   "display_name": "Python 3 (ipykernel)",
   "language": "python",
   "name": "python3"
  },
  "language_info": {
   "codemirror_mode": {
    "name": "ipython",
    "version": 3
   },
   "file_extension": ".py",
   "mimetype": "text/x-python",
   "name": "python",
   "nbconvert_exporter": "python",
   "pygments_lexer": "ipython3",
   "version": "3.11.9"
  }
 },
 "nbformat": 4,
 "nbformat_minor": 5
}
