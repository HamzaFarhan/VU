{
 "cells": [
  {
   "cell_type": "markdown",
   "metadata": {},
   "source": [
    "# Imports"
   ]
  },
  {
   "cell_type": "code",
   "execution_count": 1,
   "metadata": {},
   "outputs": [
    {
     "name": "stdout",
     "output_type": "stream",
     "text": [
      "The autoreload extension is already loaded. To reload it, use:\n",
      "  %reload_ext autoreload\n"
     ]
    }
   ],
   "source": [
    "from pathlib import Path\n",
    "\n",
    "from vu_code import ModelName, add_dependencies, assign_questions, create_topics\n",
    "\n",
    "%load_ext autoreload\n",
    "%autoreload 2\n",
    "%reload_ext autoreload"
   ]
  },
  {
   "cell_type": "markdown",
   "metadata": {},
   "source": [
    "# Model\n",
    "Use `ModelName.GPT_3` or `ModelName.GPT_4O`"
   ]
  },
  {
   "cell_type": "markdown",
   "metadata": {},
   "source": [
    "# Data Paths\n",
    "I've only added 2 folders for 101 for now.\n"
   ]
  },
  {
   "cell_type": "code",
   "execution_count": 2,
   "metadata": {},
   "outputs": [],
   "source": [
    "COURSE = \"math_102\"  # or \"math_101\"\n",
    "# MONTH and DAY are set just for file naming purposes\n",
    "MONTH = \"JUNE\"\n",
    "DAY = 21\n",
    "\n",
    "today_file_name = f\"{COURSE}_{MONTH}_{DAY}\"\n",
    "\n",
    "# This will have everything. We can load this and continue from here\n",
    "today_topics_file = Path(f\"{today_file_name}_topics.json\")\n",
    "\n",
    "# This will have the assigned questions.\n",
    "# It will have a \"used\" key to indicate the number of questions from the bank that we have processed\n",
    "# It will have a \"questions\" key to store the actual questions\n",
    "# If we pass this file in the `assign_questions` function, it will continue from where it left off\n",
    "today_questions_file = Path(f\"{today_file_name}_questions.json\")\n",
    "\n",
    "questions_dir = Path(\n",
    "    f\"{COURSE}_questions\"\n",
    ")  # This is where all the questions are stored. Could be divided into subdirectories"
   ]
  },
  {
   "cell_type": "code",
   "execution_count": 3,
   "metadata": {},
   "outputs": [
    {
     "data": {
      "text/plain": [
       "['Set, its different representations and types of sets',\n",
       " 'Complex numbers their addition, subtraction, multiplication and division and Modulus of a complex number',\n",
       " 'Mapping and their types, function and their types, composite and inverse of a function, addition, subtraction, multiplication and division of functions',\n",
       " 'Quadratic functions and quadratic formula with the types of solutions',\n",
       " 'Matrices with their addition, subtraction  and multiplication , finding the inverse of a matrix using augmented matrix and co-factors. Application of matrices in solving system of linear equations, Crammer rule Determinants',\n",
       " 'Arithmetic and Geometric Sequence with their nth terms and Series sum.',\n",
       " 'Permutations and Combinations with their applications on some real life scenarios',\n",
       " 'Binomial theorem and its applications in generalizing the formulas for higher powers ',\n",
       " 'In coordinate geometry find  the distance between two points, the slope of a line,condition for parallel and perpendicular lines,',\n",
       " 'Circle and equation of circle',\n",
       " 'Graphs of basic trigonometric functions, periodicity of sine and cosine functions, trigonometric identities and their applications to solve a trigonometric equation, Sum and Difference Formulas , Double Angle Formulas ',\n",
       " 'Statistics and its contribution in our life, types of statistics, measurement scales, ',\n",
       " 'Data Representation to analyse and find Measures of Central Tendency , Measures of Dispersion, Partial Fractions and Trigonometric Identities']"
      ]
     },
     "execution_count": 3,
     "metadata": {},
     "output_type": "execute_result"
    }
   ],
   "source": [
    "outline = Path(f\"{COURSE}.txt\").read_text().splitlines()\n",
    "outline"
   ]
  },
  {
   "cell_type": "markdown",
   "metadata": {},
   "source": [
    "# Topics"
   ]
  },
  {
   "cell_type": "markdown",
   "metadata": {},
   "source": [
    "`create_topics` will take an `outline` and use `model` to generate and return a `Topics` object that will have Topics with Subtopics and Concepts.\n",
    "\n",
    "It will write the topics as a JSON file to `topics_file`. We can load from this later on.\n",
    "\n",
    "`outline` can be a list of strings or a single string that will be split by newlines."
   ]
  },
  {
   "cell_type": "code",
   "execution_count": null,
   "metadata": {},
   "outputs": [],
   "source": [
    "topics = create_topics(\n",
    "    outline=outline, model=ModelName.GPT_3, topics_file=today_topics_file\n",
    ")"
   ]
  },
  {
   "cell_type": "markdown",
   "metadata": {},
   "source": [
    "# Questions"
   ]
  },
  {
   "cell_type": "markdown",
   "metadata": {},
   "source": [
    "`assign_questions` will take the `questions_dir` and the `topics_file` and assign questions to each topic.  \n",
    "\n",
    "It will use the `assigner_model` to assign the questions to the topics.  \n",
    "\n",
    "It will use the `subquestion_model` to create subquestions for each question.\n",
    "\n",
    "It will use the `code_model` to create code snippets for each question.\n",
    "\n",
    "If it `questions_dir` has subdirectories, it will first take `questions_per_folder` questions from each subdirectory.\n",
    "\n",
    "If `folder_names` is provided, it will only consider those subdirectories.\n",
    "\n",
    "It will process at most `num_questions` questions in total. Even if `questions_per_folder` x `len(folder_names)` is greater than `num_questions`.\n",
    "\n",
    "It will store the assigned questions in the `assigned_questions_file` with a \"used\" key to indicate the number of questions from the bank that we have processed.\n",
    "\n",
    "It will store the actual questions in the \"questions\" key.\n",
    "\n",
    "The topics will be updated with the assigned questions and stored in the `topics_file`."
   ]
  },
  {
   "cell_type": "code",
   "execution_count": null,
   "metadata": {},
   "outputs": [],
   "source": [
    "topics = assign_questions(\n",
    "    questions_dir=questions_dir,\n",
    "    topics_file=today_topics_file,\n",
    "    assigner_model=ModelName.GPT_3,\n",
    "    subquestion_model=ModelName.GPT_3,\n",
    "    code_model=ModelName.GPT_4O,\n",
    "    questions_per_folder=10,\n",
    "    folder_names=None,\n",
    "    num_questions=40,\n",
    "    assigned_questions_file=today_questions_file,\n",
    ")"
   ]
  },
  {
   "cell_type": "markdown",
   "metadata": {},
   "source": [
    "# Dependencies"
   ]
  },
  {
   "cell_type": "markdown",
   "metadata": {},
   "source": [
    "`add_dependencies` function will take the topics, add dependencies between the questions and then return the topics and write them to the `topics_file`"
   ]
  },
  {
   "cell_type": "code",
   "execution_count": null,
   "metadata": {},
   "outputs": [],
   "source": [
    "topics = add_dependencies(topics_file=today_topics_file, model=ModelName.GPT_3)"
   ]
  }
 ],
 "metadata": {
  "kernelspec": {
   "display_name": ".venv",
   "language": "python",
   "name": "python3"
  },
  "language_info": {
   "codemirror_mode": {
    "name": "ipython",
    "version": 3
   },
   "file_extension": ".py",
   "mimetype": "text/x-python",
   "name": "python",
   "nbconvert_exporter": "python",
   "pygments_lexer": "ipython3",
   "version": "3.11.9"
  }
 },
 "nbformat": 4,
 "nbformat_minor": 2
}
