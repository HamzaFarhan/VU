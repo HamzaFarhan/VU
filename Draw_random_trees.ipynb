{
 "cells": [
  {
   "cell_type": "code",
   "execution_count": 1,
   "id": "f131774c",
   "metadata": {},
   "outputs": [],
   "source": [
    "import dash\n",
    "from dash import dcc\n",
    "from dash import html\n",
    "from dash.dependencies import Input, Output, State\n",
    "import networkx as nx\n",
    "import plotly.graph_objs as go\n",
    "#from textwrap import dedent\n",
    "import dash_cytoscape as cyto\n",
    "import numpy as np\n",
    "import traceback\n",
    "import math\n",
    "import random\n",
    "import graphviz"
   ]
  },
  {
   "cell_type": "code",
   "execution_count": 2,
   "id": "f53d71c2",
   "metadata": {
    "scrolled": false
   },
   "outputs": [],
   "source": [
    "# Function to create a tree with a given root and depth\n",
    "def create_tree(root, depth):\n",
    "    tree = nx.DiGraph()\n",
    "    tree.add_node(root)\n",
    "    if depth > 0:\n",
    "        num_children = random.randint(2, 5)  # Random branching factor between 2 and 5\n",
    "        for i in range(num_children):\n",
    "            child = f\"{root}.{i+1}\"\n",
    "            tree.add_edge(root, child)\n",
    "            tree = nx.compose(tree, create_tree(child, depth - 1))\n",
    "    return tree\n",
    "\n",
    "# Create 10 trees\n",
    "trees = [create_tree(f\"{i+1}\", 3) for i in range(10)]\n",
    "\n",
    "all_nodes = []\n",
    "G_trees =  nx.compose_all(trees)\n",
    "#print (list(G_trees.edges))\n",
    " \n",
    "#for tree in trees:\n",
    "#    all_nodes.extend(list(G_trees.nodes))\n",
    "\n",
    "#print (all_nodes)\n"
   ]
  },
  {
   "cell_type": "code",
   "execution_count": 3,
   "id": "684acb30",
   "metadata": {},
   "outputs": [
    {
     "data": {
      "text/plain": [
       "'\\ndef calculate_all_node_tree_positions (all_nodes, vertical_delta = 2, horizontal_delta = 200):    \\n    \\n    #\\n    #   Each topic will be a root of a tree.\\n    #   This tree will have only vertical links,\\n    #   from each topic to its subtopics, from each subtopic to its learning outcomes\\n    #   and from each learning outcome to its questions\\n    #\\n    #   Each tree will be placed in a rectangle (boundaries of ractangles not rendered)\\n    #   Each tree has height 3 (root being at height 0)\\n    #   Therefore height of eah rectangle will be the same\\n    #   width of each rectangle is determined by the number of\\n    #\\n    \\n    all_nodes_tree_pos = {}\\n    \\n    current_rectangle_starting_point = 0\\n    \\n    vertical_position_questions = 5\\n    vertical_position_loc = vertical_position_questions + vertical_delta\\n    vertical_position_subtopics = vertical_position_loc + vertical_delta\\n    vertical_position_topics = vertical_position_subtopics + vertical_delta\\n    \\n    topics_nodes = sorted([node for node in all_nodes if node.count(\\'.\\') == 0])\\n    num_topics = len(topics_nodes)\\n    \\n    #print (topics_nodes)\\n    for topic_node in topics_nodes:\\n        #print (\"Topic being processesed: \", topic_node)\\n        #\\n        #   find positions for all leaf nodea\\n        #  \\n        leaf_nodes = sorted([x for x in all_nodes if (x.startswith(topic_node) and x.count(\\'.\\') == 3)]) \\n        witdth_leaf_rectangle =  (len(leaf_nodes))*horizontal_delta\\n        current_leaf_node_pos = current_rectangle_starting_point + horizontal_delta\\n        #print (leaf_nodes)\\n        for lf_node in leaf_nodes:\\n            all_nodes_tree_pos[lf_node] = np.array([current_leaf_node_pos, vertical_position_questions])\\n            current_leaf_node_pos +=  2*horizontal_delta\\n        #\\n        #  find positions of all loc\\n        #\\n        loc_nodes = sorted([x for x in all_nodes if (x.startswith(topic_node) and x.count(\\'.\\') == 2)])\\n        #print (\"loc_nodes: \",loc_nodes)\\n        num_loc = len(loc_nodes)\\n        width_loc_rectangle = int(witdth_leaf_rectangle/num_loc)\\n        current_loc_node_pos = current_rectangle_starting_point + int(0.5*width_loc_rectangle)\\n        for loc_node in loc_nodes:\\n            all_nodes_tree_pos[loc_node] = np.array([current_loc_node_pos, vertical_position_loc])\\n            current_loc_node_pos += width_loc_rectangle\\n            \\n        #\\n        #  find positions of all subtopics\\n        #\\n        subtopics_nodes = sorted([x for x in all_nodes if (x.startswith(topic_node) and x.count(\\'.\\') == 1)])\\n        #print (subtopics_nodes)\\n        num_subtopics = len(subtopics_nodes)\\n        width_subtopics_rectangle = int(witdth_leaf_rectangle/num_subtopics)\\n        current_subtopic_node_pos = current_rectangle_starting_point + int(0.5*width_subtopics_rectangle)\\n        for subtopic_node in subtopics_nodes:\\n            all_nodes_tree_pos[subtopic_node] = np.array([current_subtopic_node_pos, vertical_position_subtopics])\\n            current_subtopic_node_pos += width_subtopics_rectangle\\n        #\\n        #  find positions of all topics\\n        #\\n        num_topics = len(topics_nodes)\\n        width_topics_rectangle = int(witdth_leaf_rectangle)\\n        current_topic_node_pos = current_rectangle_starting_point + int(0.5*width_topics_rectangle)\\n        all_nodes_tree_pos[topic_node] = np.array([current_topic_node_pos, vertical_position_topics])\\n        \\n        # once all leaf nodes have their positions for the current subject \\n        # we known where the rectangle for tree for the next subject start.\\n        \\n        current_rectangle_starting_point += witdth_leaf_rectangle     \\n        \\n    #print (all_nodes_tree_pos)\\n    \\n\\n    return all_nodes_tree_pos\\n'"
      ]
     },
     "execution_count": 3,
     "metadata": {},
     "output_type": "execute_result"
    }
   ],
   "source": [
    "\"\"\"\n",
    "def calculate_all_node_tree_positions (all_nodes, vertical_delta = 2, horizontal_delta = 200):    \n",
    "    \n",
    "    #\n",
    "    #   Each topic will be a root of a tree.\n",
    "    #   This tree will have only vertical links,\n",
    "    #   from each topic to its subtopics, from each subtopic to its learning outcomes\n",
    "    #   and from each learning outcome to its questions\n",
    "    #\n",
    "    #   Each tree will be placed in a rectangle (boundaries of ractangles not rendered)\n",
    "    #   Each tree has height 3 (root being at height 0)\n",
    "    #   Therefore height of eah rectangle will be the same\n",
    "    #   width of each rectangle is determined by the number of\n",
    "    #\n",
    "    \n",
    "    all_nodes_tree_pos = {}\n",
    "    \n",
    "    current_rectangle_starting_point = 0\n",
    "    \n",
    "    vertical_position_questions = 5\n",
    "    vertical_position_loc = vertical_position_questions + vertical_delta\n",
    "    vertical_position_subtopics = vertical_position_loc + vertical_delta\n",
    "    vertical_position_topics = vertical_position_subtopics + vertical_delta\n",
    "    \n",
    "    topics_nodes = sorted([node for node in all_nodes if node.count('.') == 0])\n",
    "    num_topics = len(topics_nodes)\n",
    "    \n",
    "    #print (topics_nodes)\n",
    "    for topic_node in topics_nodes:\n",
    "        #print (\"Topic being processesed: \", topic_node)\n",
    "        #\n",
    "        #   find positions for all leaf nodea\n",
    "        #  \n",
    "        leaf_nodes = sorted([x for x in all_nodes if (x.startswith(topic_node) and x.count('.') == 3)]) \n",
    "        witdth_leaf_rectangle =  (len(leaf_nodes))*horizontal_delta\n",
    "        current_leaf_node_pos = current_rectangle_starting_point + horizontal_delta\n",
    "        #print (leaf_nodes)\n",
    "        for lf_node in leaf_nodes:\n",
    "            all_nodes_tree_pos[lf_node] = np.array([current_leaf_node_pos, vertical_position_questions])\n",
    "            current_leaf_node_pos +=  2*horizontal_delta\n",
    "        #\n",
    "        #  find positions of all loc\n",
    "        #\n",
    "        loc_nodes = sorted([x for x in all_nodes if (x.startswith(topic_node) and x.count('.') == 2)])\n",
    "        #print (\"loc_nodes: \",loc_nodes)\n",
    "        num_loc = len(loc_nodes)\n",
    "        width_loc_rectangle = int(witdth_leaf_rectangle/num_loc)\n",
    "        current_loc_node_pos = current_rectangle_starting_point + int(0.5*width_loc_rectangle)\n",
    "        for loc_node in loc_nodes:\n",
    "            all_nodes_tree_pos[loc_node] = np.array([current_loc_node_pos, vertical_position_loc])\n",
    "            current_loc_node_pos += width_loc_rectangle\n",
    "            \n",
    "        #\n",
    "        #  find positions of all subtopics\n",
    "        #\n",
    "        subtopics_nodes = sorted([x for x in all_nodes if (x.startswith(topic_node) and x.count('.') == 1)])\n",
    "        #print (subtopics_nodes)\n",
    "        num_subtopics = len(subtopics_nodes)\n",
    "        width_subtopics_rectangle = int(witdth_leaf_rectangle/num_subtopics)\n",
    "        current_subtopic_node_pos = current_rectangle_starting_point + int(0.5*width_subtopics_rectangle)\n",
    "        for subtopic_node in subtopics_nodes:\n",
    "            all_nodes_tree_pos[subtopic_node] = np.array([current_subtopic_node_pos, vertical_position_subtopics])\n",
    "            current_subtopic_node_pos += width_subtopics_rectangle\n",
    "        #\n",
    "        #  find positions of all topics\n",
    "        #\n",
    "        num_topics = len(topics_nodes)\n",
    "        width_topics_rectangle = int(witdth_leaf_rectangle)\n",
    "        current_topic_node_pos = current_rectangle_starting_point + int(0.5*width_topics_rectangle)\n",
    "        all_nodes_tree_pos[topic_node] = np.array([current_topic_node_pos, vertical_position_topics])\n",
    "        \n",
    "        # once all leaf nodes have their positions for the current subject \n",
    "        # we known where the rectangle for tree for the next subject start.\n",
    "        \n",
    "        current_rectangle_starting_point += witdth_leaf_rectangle     \n",
    "        \n",
    "    #print (all_nodes_tree_pos)\n",
    "    \n",
    "\n",
    "    return all_nodes_tree_pos\n",
    "\"\"\""
   ]
  },
  {
   "cell_type": "code",
   "execution_count": 4,
   "id": "fe06d2e4",
   "metadata": {
    "scrolled": false
   },
   "outputs": [
    {
     "data": {
      "text/plain": [
       "'\\ndef scale_pos(all_positions):\\n\\n# Define figure height and width\\n\\n    height = 300\\n    width = 1000\\n\\n    # Calculate scaling factors\\n    x_range = max(all_positions.values(), key=lambda x: x[0])[0] - min(all_positions.values(), key=lambda x: x[0])[0]\\n    y_range = max(all_positions.values(), key=lambda x: x[1])[1] - min(all_positions.values(), key=lambda x: x[1])[1]\\n    #print (\"x_range, y_range; line 289: \", x_range, y_range)\\n    x_scale = width / x_range\\n    y_scale = height / y_range\\n    \\n    # Apply scaling factors to map positions to figure dimensions\\n    pos = {node: ((x - min(all_positions.values(), key=lambda x: x[0])[0]) * x_scale,\\n                            (y - min(all_positions.values(), key=lambda x: x[1])[1]) * y_scale)\\n                            for node, (x, y) in all_positions.items()}\\n\\n    return pos\\n\\n'"
      ]
     },
     "execution_count": 4,
     "metadata": {},
     "output_type": "execute_result"
    }
   ],
   "source": [
    "\"\"\"\n",
    "def scale_pos(all_positions):\n",
    "\n",
    "# Define figure height and width\n",
    "\n",
    "    height = 300\n",
    "    width = 1000\n",
    "\n",
    "    # Calculate scaling factors\n",
    "    x_range = max(all_positions.values(), key=lambda x: x[0])[0] - min(all_positions.values(), key=lambda x: x[0])[0]\n",
    "    y_range = max(all_positions.values(), key=lambda x: x[1])[1] - min(all_positions.values(), key=lambda x: x[1])[1]\n",
    "    #print (\"x_range, y_range; line 289: \", x_range, y_range)\n",
    "    x_scale = width / x_range\n",
    "    y_scale = height / y_range\n",
    "    \n",
    "    # Apply scaling factors to map positions to figure dimensions\n",
    "    pos = {node: ((x - min(all_positions.values(), key=lambda x: x[0])[0]) * x_scale,\n",
    "                            (y - min(all_positions.values(), key=lambda x: x[1])[1]) * y_scale)\n",
    "                            for node, (x, y) in all_positions.items()}\n",
    "\n",
    "    return pos\n",
    "\n",
    "\"\"\""
   ]
  },
  {
   "cell_type": "code",
   "execution_count": 5,
   "id": "f8204f41",
   "metadata": {},
   "outputs": [],
   "source": [
    "#unscaled_pos = calculate_all_node_tree_positions (all_nodes)\n",
    "#pos = scale_pos(unscaled_pos)\n"
   ]
  },
  {
   "cell_type": "code",
   "execution_count": 6,
   "id": "a9556ff7",
   "metadata": {},
   "outputs": [
    {
     "ename": "ModuleNotFoundError",
     "evalue": "No module named 'pydot'",
     "output_type": "error",
     "traceback": [
      "\u001b[0;31m---------------------------------------------------------------------------\u001b[0m",
      "\u001b[0;31mModuleNotFoundError\u001b[0m                       Traceback (most recent call last)",
      "Cell \u001b[0;32mIn[6], line 1\u001b[0m\n\u001b[0;32m----> 1\u001b[0m pos \u001b[38;5;241m=\u001b[39m \u001b[43mnx\u001b[49m\u001b[38;5;241;43m.\u001b[39;49m\u001b[43mnx_pydot\u001b[49m\u001b[38;5;241;43m.\u001b[39;49m\u001b[43mgraphviz_layout\u001b[49m\u001b[43m(\u001b[49m\u001b[43mG_trees\u001b[49m\u001b[43m)\u001b[49m\n\u001b[1;32m      2\u001b[0m nx\u001b[38;5;241m.\u001b[39mdraw(G_trees, pos,  node_size\u001b[38;5;241m=\u001b[39m \u001b[38;5;241m20\u001b[39m, with_labels\u001b[38;5;241m=\u001b[39m \u001b[38;5;28;01mFalse\u001b[39;00m)\n",
      "File \u001b[0;32m~/dev/HF/dreamai_2-0-12/.venv/lib/python3.11/site-packages/networkx/drawing/nx_pydot.py:322\u001b[0m, in \u001b[0;36mgraphviz_layout\u001b[0;34m(G, prog, root)\u001b[0m\n\u001b[1;32m    292\u001b[0m \u001b[38;5;28;01mdef\u001b[39;00m \u001b[38;5;21mgraphviz_layout\u001b[39m(G, prog\u001b[38;5;241m=\u001b[39m\u001b[38;5;124m\"\u001b[39m\u001b[38;5;124mneato\u001b[39m\u001b[38;5;124m\"\u001b[39m, root\u001b[38;5;241m=\u001b[39m\u001b[38;5;28;01mNone\u001b[39;00m):\n\u001b[1;32m    293\u001b[0m \u001b[38;5;250m    \u001b[39m\u001b[38;5;124;03m\"\"\"Create node positions using Pydot and Graphviz.\u001b[39;00m\n\u001b[1;32m    294\u001b[0m \n\u001b[1;32m    295\u001b[0m \u001b[38;5;124;03m    Returns a dictionary of positions keyed by node.\u001b[39;00m\n\u001b[0;32m   (...)\u001b[0m\n\u001b[1;32m    320\u001b[0m \u001b[38;5;124;03m    This is a wrapper for pydot_layout.\u001b[39;00m\n\u001b[1;32m    321\u001b[0m \u001b[38;5;124;03m    \"\"\"\u001b[39;00m\n\u001b[0;32m--> 322\u001b[0m     \u001b[38;5;28;01mreturn\u001b[39;00m \u001b[43mpydot_layout\u001b[49m\u001b[43m(\u001b[49m\u001b[43mG\u001b[49m\u001b[38;5;241;43m=\u001b[39;49m\u001b[43mG\u001b[49m\u001b[43m,\u001b[49m\u001b[43m \u001b[49m\u001b[43mprog\u001b[49m\u001b[38;5;241;43m=\u001b[39;49m\u001b[43mprog\u001b[49m\u001b[43m,\u001b[49m\u001b[43m \u001b[49m\u001b[43mroot\u001b[49m\u001b[38;5;241;43m=\u001b[39;49m\u001b[43mroot\u001b[49m\u001b[43m)\u001b[49m\n",
      "File \u001b[0;32m~/dev/HF/dreamai_2-0-12/.venv/lib/python3.11/site-packages/networkx/drawing/nx_pydot.py:363\u001b[0m, in \u001b[0;36mpydot_layout\u001b[0;34m(G, prog, root)\u001b[0m\n\u001b[1;32m    325\u001b[0m \u001b[38;5;28;01mdef\u001b[39;00m \u001b[38;5;21mpydot_layout\u001b[39m(G, prog\u001b[38;5;241m=\u001b[39m\u001b[38;5;124m\"\u001b[39m\u001b[38;5;124mneato\u001b[39m\u001b[38;5;124m\"\u001b[39m, root\u001b[38;5;241m=\u001b[39m\u001b[38;5;28;01mNone\u001b[39;00m):\n\u001b[1;32m    326\u001b[0m \u001b[38;5;250m    \u001b[39m\u001b[38;5;124;03m\"\"\"Create node positions using :mod:`pydot` and Graphviz.\u001b[39;00m\n\u001b[1;32m    327\u001b[0m \n\u001b[1;32m    328\u001b[0m \u001b[38;5;124;03m    Parameters\u001b[39;00m\n\u001b[0;32m   (...)\u001b[0m\n\u001b[1;32m    361\u001b[0m \n\u001b[1;32m    362\u001b[0m \u001b[38;5;124;03m    \"\"\"\u001b[39;00m\n\u001b[0;32m--> 363\u001b[0m     \u001b[38;5;28;01mimport\u001b[39;00m \u001b[38;5;21;01mpydot\u001b[39;00m\n\u001b[1;32m    365\u001b[0m     P \u001b[38;5;241m=\u001b[39m to_pydot(G)\n\u001b[1;32m    366\u001b[0m     \u001b[38;5;28;01mif\u001b[39;00m root \u001b[38;5;129;01mis\u001b[39;00m \u001b[38;5;129;01mnot\u001b[39;00m \u001b[38;5;28;01mNone\u001b[39;00m:\n",
      "\u001b[0;31mModuleNotFoundError\u001b[0m: No module named 'pydot'"
     ]
    }
   ],
   "source": [
    "pos = nx.nx_pydot.graphviz_layout(G_trees)\n",
    "nx.draw(G_trees, pos,  node_size= 20, with_labels= False)"
   ]
  },
  {
   "cell_type": "code",
   "execution_count": null,
   "id": "ff44ab55",
   "metadata": {},
   "outputs": [],
   "source": []
  }
 ],
 "metadata": {
  "kernelspec": {
   "display_name": "Python 3 (ipykernel)",
   "language": "python",
   "name": "python3"
  },
  "language_info": {
   "codemirror_mode": {
    "name": "ipython",
    "version": 3
   },
   "file_extension": ".py",
   "mimetype": "text/x-python",
   "name": "python",
   "nbconvert_exporter": "python",
   "pygments_lexer": "ipython3",
   "version": "3.11.9"
  }
 },
 "nbformat": 4,
 "nbformat_minor": 5
}
